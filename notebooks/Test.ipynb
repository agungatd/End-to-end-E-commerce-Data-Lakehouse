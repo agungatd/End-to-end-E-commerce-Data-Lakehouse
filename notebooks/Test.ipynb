{
 "cells": [
  {
   "cell_type": "code",
   "execution_count": 8,
   "id": "f9e5c993-7082-4f23-996b-2921b0dbed5f",
   "metadata": {},
   "outputs": [
    {
     "data": {
      "text/html": [
       "<table>\n",
       "    <thead>\n",
       "        <tr>\n",
       "        </tr>\n",
       "    </thead>\n",
       "    <tbody>\n",
       "    </tbody>\n",
       "</table>"
      ],
      "text/plain": [
       "++\n",
       "||\n",
       "++\n",
       "++"
      ]
     },
     "execution_count": 8,
     "metadata": {},
     "output_type": "execute_result"
    }
   ],
   "source": [
    "%%sql\n",
    "CREATE DATABASE IF NOT EXISTS dev_curated_ecommerce;"
   ]
  },
  {
   "cell_type": "code",
   "execution_count": 9,
   "id": "9d5269d8-f436-4e72-94c6-898baaa5c0ff",
   "metadata": {},
   "outputs": [
    {
     "data": {
      "text/html": [
       "<table>\n",
       "    <thead>\n",
       "        <tr>\n",
       "        </tr>\n",
       "    </thead>\n",
       "    <tbody>\n",
       "    </tbody>\n",
       "</table>"
      ],
      "text/plain": [
       "++\n",
       "||\n",
       "++\n",
       "++"
      ]
     },
     "execution_count": 9,
     "metadata": {},
     "output_type": "execute_result"
    }
   ],
   "source": [
    "%%sql\n",
    "CREATE TABLE IF NOT EXISTS dev_curated_ecommerce.customers (\n",
    "    customer_id                 bigint NOT NULL COMMENT 'unique id',\n",
    "    name                        string,\n",
    "    gender                      string,\n",
    "    email                       string,\n",
    "    phone                       string,\n",
    "    country                     string,\n",
    "    registration_date           timestamp NOT NULL,\n",
    "    acquisition_channel_id      int\n",
    ")\n",
    "USING iceberg\n",
    "PARTITIONED BY (days(registration_date));"
   ]
  },
  {
   "cell_type": "code",
   "execution_count": 3,
   "id": "2e5d4ff4-9e30-421e-a834-6e5b109815d3",
   "metadata": {
    "scrolled": true
   },
   "outputs": [
    {
     "name": "stderr",
     "output_type": "stream",
     "text": [
      "                                                                                \r"
     ]
    }
   ],
   "source": [
    "from datetime import datetime\n",
    "\n",
    "schema = spark.table(\"climate.weather\").schema\n",
    "\n",
    "data = [\n",
    "    (datetime(2023,8,16), 76.2, 40.951908, -74.075272, \"Partially sunny\", 0.0, 3.5),\n",
    "    (datetime(2023,8,17), 82.5, 40.951908, -74.075272, \"Sunny\", 0.0, 1.2),\n",
    "    (datetime(2023,8,18), 70.9, 40.951908, -74.075272, \"Cloudy\", .5, 5.2)\n",
    "  ]\n",
    "\n",
    "df = spark.createDataFrame(data, schema)\n",
    "df.writeTo(\"climate.weather\").append()"
   ]
  },
  {
   "cell_type": "code",
   "execution_count": 4,
   "id": "46b82cc3-c149-4698-9042-1c677561cb12",
   "metadata": {},
   "outputs": [
    {
     "name": "stdout",
     "output_type": "stream",
     "text": [
      "+-------------------+----+---------+----------+---------------+------+----------+\n",
      "|           datetime|temp|      lat|      long| cloud_coverage|precip|wind_speed|\n",
      "+-------------------+----+---------+----------+---------------+------+----------+\n",
      "|2023-08-16 00:00:00|76.2|40.951908|-74.075272|Partially sunny|   0.0|       3.5|\n",
      "|2023-08-17 00:00:00|82.5|40.951908|-74.075272|          Sunny|   0.0|       1.2|\n",
      "|2023-08-18 00:00:00|70.9|40.951908|-74.075272|         Cloudy|   0.5|       5.2|\n",
      "+-------------------+----+---------+----------+---------------+------+----------+\n",
      "\n"
     ]
    }
   ],
   "source": [
    "df.show()"
   ]
  },
  {
   "cell_type": "code",
   "execution_count": 8,
   "id": "f6101b61-8ef7-4f39-8d41-5c0b87e3ecca",
   "metadata": {},
   "outputs": [
    {
     "data": {
      "text/html": [
       "<table>\n",
       "    <thead>\n",
       "        <tr>\n",
       "            <th>month(datetime)</th>\n",
       "            <th>avg(wind_speed)</th>\n",
       "        </tr>\n",
       "    </thead>\n",
       "    <tbody>\n",
       "        <tr>\n",
       "            <td>8</td>\n",
       "            <td>2.35</td>\n",
       "        </tr>\n",
       "    </tbody>\n",
       "</table>"
      ],
      "text/plain": [
       "+-----------------+-----------------+\n",
       "| month(datetime) | avg(wind_speed) |\n",
       "+-----------------+-----------------+\n",
       "|               8 |            2.35 |\n",
       "+-----------------+-----------------+"
      ]
     },
     "execution_count": 8,
     "metadata": {},
     "output_type": "execute_result"
    }
   ],
   "source": [
    "%%sql\n",
    "select\n",
    "    month(datetime), avg(wind_speed) \n",
    "from climate.weather\n",
    "where lower(cloud_coverage) like '%sun%'\n",
    "group by month(datetime)"
   ]
  },
  {
   "cell_type": "markdown",
   "id": "90e700ca-8da0-403e-906a-8a968735b58e",
   "metadata": {},
   "source": [
    "### Test Postgres\n",
    "---"
   ]
  },
  {
   "cell_type": "code",
   "execution_count": 14,
   "id": "5bb59d24-938b-4fcb-af27-f21c46e683b8",
   "metadata": {},
   "outputs": [
    {
     "name": "stdout",
     "output_type": "stream",
     "text": [
      "Reading data from PostgreSQL, table: customer_acquisition_channels...\n",
      "DataFrame[channel_id: int, category: string, channel_name: string, description: string]\n",
      "Reading data from PostgreSQL, table: customers...\n",
      "DataFrame[customer_id: int, name: string, gender: string, email: string, phone: string, country: string, registration_date: timestamp, acquisition_channel_id: int]\n",
      "Reading data from PostgreSQL, table: inventory...\n",
      "DataFrame[inventory_id: int, product_id: int, quantity: int, warehouse_location: string, updated_at: timestamp]\n",
      "Reading data from PostgreSQL, table: order_items...\n",
      "DataFrame[order_item_id: int, order_id: int, product_id: int, quantity: int, price: decimal(16,2)]\n",
      "Reading data from PostgreSQL, table: orders...\n",
      "DataFrame[order_id: int, customer_id: int, order_date: timestamp, order_status: string, total_amount: decimal(10,2), payment_method: string]\n",
      "Reading data from PostgreSQL, table: product_categories...\n",
      "DataFrame[category_id: int, category_name: string, parent_category_id: int]\n",
      "Reading data from PostgreSQL, table: products...\n",
      "DataFrame[product_id: int, name: string, description: string, price: decimal(10,2), category_id: int, created_at: timestamp, updated_at: timestamp]\n"
     ]
    }
   ],
   "source": [
    "tables = [\"customer_acquisition_channels\", \"customers\", \"inventory\", \"order_items\", \"orders\", \"product_categories\", \"products\"]\n",
    "jdbc_url = \"jdbc:postgresql://postgres/ecommerce\"\n",
    "jdbc_properties = {\n",
    "    \"user\": \"postgres\",\n",
    "    \"password\": \"postgres\",\n",
    "    \"driver\": \"org.postgresql.Driver\"\n",
    "}\n",
    "def get_df(jdbc_url, jdbc_prop, table):\n",
    "    # Read data from PostgreSQL\n",
    "    print(f\"Reading data from PostgreSQL, table: {table}...\")\n",
    "    postgres_df = spark.read.jdbc(url=jdbc_url, table=table, properties=jdbc_prop)\n",
    "    print(postgres_df)\n",
    "\n",
    "for table in tables:\n",
    "    get_df(jdbc_url, jdbc_properties, table)"
   ]
  },
  {
   "cell_type": "code",
   "execution_count": 2,
   "id": "bb5c49d5-da80-4715-bd27-a831dba2c207",
   "metadata": {},
   "outputs": [
    {
     "data": {
      "text/plain": [
       "DataFrame[customer_id: int, name: string, gender: string, email: string, phone: string, country: string, registration_date: timestamp, acquisition_channel_id: int]"
      ]
     },
     "execution_count": 2,
     "metadata": {},
     "output_type": "execute_result"
    }
   ],
   "source": []
  },
  {
   "cell_type": "code",
   "execution_count": 3,
   "id": "e0998702-af5b-42d1-ad86-8d798e5b7cf6",
   "metadata": {},
   "outputs": [
    {
     "name": "stdout",
     "output_type": "stream",
     "text": [
      "+-----------+-------------+------+--------------------+-------------+-------+-------------------+----------------------+\n",
      "|customer_id|         name|gender|               email|        phone|country|  registration_date|acquisition_channel_id|\n",
      "+-----------+-------------+------+--------------------+-------------+-------+-------------------+----------------------+\n",
      "|          1|     John Doe|     M|   John.Doe@mail.com| +11239879877|    USA|2020-01-01 07:16:37|                    11|\n",
      "|          2|     Jane Doe|     F|   Jane.Doe@mail.com| +11239879871|    USA|2020-01-02 00:21:00|                     7|\n",
      "|          3|    Elon Musk|     M|  Elon.Musk@mail.com| +11239879872|    USA|2020-01-01 09:46:43|                    10|\n",
      "|          4|   Bill Gates|     M| Bill.Gates@mail.com| +11239879873|    USA|2020-01-02 16:26:29|                     1|\n",
      "|          5|Eleanor Rigby|     M|Eleanor.Rigby@mai...|+441234567891|    GBR|2020-01-01 18:34:50|                     5|\n",
      "+-----------+-------------+------+--------------------+-------------+-------+-------------------+----------------------+\n",
      "only showing top 5 rows\n",
      "\n"
     ]
    }
   ],
   "source": [
    "postgres_df.show(5)"
   ]
  },
  {
   "cell_type": "code",
   "execution_count": 4,
   "id": "1e7af9c1-ee93-435d-8016-8ee7232b5242",
   "metadata": {},
   "outputs": [
    {
     "name": "stdout",
     "output_type": "stream",
     "text": [
      "Writing data to Iceberg table: demo.ecommerce.customers\n"
     ]
    },
    {
     "name": "stderr",
     "output_type": "stream",
     "text": [
      "                                                                                \r"
     ]
    },
    {
     "name": "stdout",
     "output_type": "stream",
     "text": [
      "Data migration completed successfully!\n"
     ]
    }
   ],
   "source": [
    "# Write data to MinIO in Iceberg format\n",
    "iceberg_table = \"demo.ecommerce.customers\"\n",
    "\n",
    "print(f\"Writing data to Iceberg table: {iceberg_table}\")\n",
    "postgres_df.writeTo(iceberg_table).createOrReplace()\n",
    "\n",
    "print(\"Data migration completed successfully!\")"
   ]
  },
  {
   "cell_type": "code",
   "execution_count": 16,
   "id": "63f20f18-5652-4820-9217-a8ddf9cf0d9e",
   "metadata": {},
   "outputs": [
    {
     "data": {
      "text/html": [
       "<table>\n",
       "    <thead>\n",
       "        <tr>\n",
       "            <th>customer_id</th>\n",
       "            <th>name</th>\n",
       "            <th>gender</th>\n",
       "            <th>email</th>\n",
       "            <th>phone</th>\n",
       "            <th>country</th>\n",
       "            <th>registration_date</th>\n",
       "            <th>acquisition_channel_id</th>\n",
       "        </tr>\n",
       "    </thead>\n",
       "    <tbody>\n",
       "        <tr>\n",
       "            <td>11</td>\n",
       "            <td>Michael Su</td>\n",
       "            <td>F</td>\n",
       "            <td>ms@mail.com</td>\n",
       "            <td>123321123321</td>\n",
       "            <td>CN</td>\n",
       "            <td>2020-01-15 03:23:48</td>\n",
       "            <td>2</td>\n",
       "        </tr>\n",
       "        <tr>\n",
       "            <td>6</td>\n",
       "            <td>Muhammad Abdullah</td>\n",
       "            <td>M</td>\n",
       "            <td>Muhammad.Abdullah@mail.com</td>\n",
       "            <td>+966123456789</td>\n",
       "            <td>SA </td>\n",
       "            <td>2020-01-03 23:00:14</td>\n",
       "            <td>12</td>\n",
       "        </tr>\n",
       "        <tr>\n",
       "            <td>8</td>\n",
       "            <td>Wang Yichen</td>\n",
       "            <td>M</td>\n",
       "            <td>Wang.Yichen@mail.com</td>\n",
       "            <td>+86123456789</td>\n",
       "            <td>CN </td>\n",
       "            <td>2020-01-03 23:50:55</td>\n",
       "            <td>2</td>\n",
       "        </tr>\n",
       "        <tr>\n",
       "            <td>9</td>\n",
       "            <td>Sanjaya Putra</td>\n",
       "            <td>M</td>\n",
       "            <td>Sanjaya.Putra@mail.com</td>\n",
       "            <td>+628123456789</td>\n",
       "            <td>ID </td>\n",
       "            <td>2020-01-04 18:04:12</td>\n",
       "            <td>1</td>\n",
       "        </tr>\n",
       "        <tr>\n",
       "            <td>1</td>\n",
       "            <td>John Doe</td>\n",
       "            <td>M</td>\n",
       "            <td>John.Doe@mail.com</td>\n",
       "            <td>+11239879877</td>\n",
       "            <td>US </td>\n",
       "            <td>2020-01-01 07:16:37</td>\n",
       "            <td>11</td>\n",
       "        </tr>\n",
       "        <tr>\n",
       "            <td>3</td>\n",
       "            <td>Elon Musk</td>\n",
       "            <td>M</td>\n",
       "            <td>Elon.Musk@mail.com</td>\n",
       "            <td>+11239879872</td>\n",
       "            <td>US </td>\n",
       "            <td>2020-01-01 09:46:43</td>\n",
       "            <td>10</td>\n",
       "        </tr>\n",
       "        <tr>\n",
       "            <td>5</td>\n",
       "            <td>Eleanor Rigby</td>\n",
       "            <td>M</td>\n",
       "            <td>Eleanor.Rigby@mail.com</td>\n",
       "            <td>+441234567891</td>\n",
       "            <td>GB </td>\n",
       "            <td>2020-01-01 18:34:50</td>\n",
       "            <td>5</td>\n",
       "        </tr>\n",
       "        <tr>\n",
       "            <td>7</td>\n",
       "            <td>Eiichiro Oda</td>\n",
       "            <td>M</td>\n",
       "            <td>Eiichiro.Oda@mail.com</td>\n",
       "            <td>+81123456789</td>\n",
       "            <td>JP </td>\n",
       "            <td>2020-01-01 23:04:31</td>\n",
       "            <td>4</td>\n",
       "        </tr>\n",
       "        <tr>\n",
       "            <td>2</td>\n",
       "            <td>Jane Doe</td>\n",
       "            <td>F</td>\n",
       "            <td>Jane.Doe@mail.com</td>\n",
       "            <td>+11239879871</td>\n",
       "            <td>US </td>\n",
       "            <td>2020-01-02 00:21:00</td>\n",
       "            <td>7</td>\n",
       "        </tr>\n",
       "        <tr>\n",
       "            <td>4</td>\n",
       "            <td>Bill Gates</td>\n",
       "            <td>M</td>\n",
       "            <td>Bill.Gates@mail.com</td>\n",
       "            <td>+11239879873</td>\n",
       "            <td>US </td>\n",
       "            <td>2020-01-02 16:26:29</td>\n",
       "            <td>1</td>\n",
       "        </tr>\n",
       "        <tr>\n",
       "            <td>10</td>\n",
       "            <td>Daran Tasha</td>\n",
       "            <td>F</td>\n",
       "            <td>Daran.Tasha@mail.com</td>\n",
       "            <td>+7112323456789</td>\n",
       "            <td>RU </td>\n",
       "            <td>2020-01-05 02:23:48</td>\n",
       "            <td>11</td>\n",
       "        </tr>\n",
       "    </tbody>\n",
       "</table>"
      ],
      "text/plain": [
       "+-------------+-------------------+--------+----------------------------+----------------+---------+---------------------+------------------------+\n",
       "| customer_id |              name | gender |                      email |          phone | country |   registration_date | acquisition_channel_id |\n",
       "+-------------+-------------------+--------+----------------------------+----------------+---------+---------------------+------------------------+\n",
       "|          11 |        Michael Su |      F |                ms@mail.com |   123321123321 |      CN | 2020-01-15 03:23:48 |                      2 |\n",
       "|           6 | Muhammad Abdullah |      M | Muhammad.Abdullah@mail.com |  +966123456789 |     SA  | 2020-01-03 23:00:14 |                     12 |\n",
       "|           8 |       Wang Yichen |      M |       Wang.Yichen@mail.com |   +86123456789 |     CN  | 2020-01-03 23:50:55 |                      2 |\n",
       "|           9 |     Sanjaya Putra |      M |     Sanjaya.Putra@mail.com |  +628123456789 |     ID  | 2020-01-04 18:04:12 |                      1 |\n",
       "|           1 |          John Doe |      M |          John.Doe@mail.com |   +11239879877 |     US  | 2020-01-01 07:16:37 |                     11 |\n",
       "|           3 |         Elon Musk |      M |         Elon.Musk@mail.com |   +11239879872 |     US  | 2020-01-01 09:46:43 |                     10 |\n",
       "|           5 |     Eleanor Rigby |      M |     Eleanor.Rigby@mail.com |  +441234567891 |     GB  | 2020-01-01 18:34:50 |                      5 |\n",
       "|           7 |      Eiichiro Oda |      M |      Eiichiro.Oda@mail.com |   +81123456789 |     JP  | 2020-01-01 23:04:31 |                      4 |\n",
       "|           2 |          Jane Doe |      F |          Jane.Doe@mail.com |   +11239879871 |     US  | 2020-01-02 00:21:00 |                      7 |\n",
       "|           4 |        Bill Gates |      M |        Bill.Gates@mail.com |   +11239879873 |     US  | 2020-01-02 16:26:29 |                      1 |\n",
       "|          10 |       Daran Tasha |      F |       Daran.Tasha@mail.com | +7112323456789 |     RU  | 2020-01-05 02:23:48 |                     11 |\n",
       "+-------------+-------------------+--------+----------------------------+----------------+---------+---------------------+------------------------+"
      ]
     },
     "execution_count": 16,
     "metadata": {},
     "output_type": "execute_result"
    }
   ],
   "source": [
    "%%sql\n",
    "select * from dev_raw_ecommerce.customers"
   ]
  },
  {
   "cell_type": "code",
   "execution_count": 15,
   "id": "9d8796fa-5c8b-4c75-b80f-642be81fda20",
   "metadata": {},
   "outputs": [
    {
     "data": {
      "text/html": [
       "<table>\n",
       "    <thead>\n",
       "        <tr>\n",
       "            <th>customer_id</th>\n",
       "            <th>name</th>\n",
       "            <th>gender</th>\n",
       "            <th>email</th>\n",
       "            <th>phone</th>\n",
       "            <th>country</th>\n",
       "            <th>registration_date</th>\n",
       "            <th>acquisition_channel_id</th>\n",
       "        </tr>\n",
       "    </thead>\n",
       "    <tbody>\n",
       "    </tbody>\n",
       "</table>"
      ],
      "text/plain": [
       "+-------------+------+--------+-------+-------+---------+-------------------+------------------------+\n",
       "| customer_id | name | gender | email | phone | country | registration_date | acquisition_channel_id |\n",
       "+-------------+------+--------+-------+-------+---------+-------------------+------------------------+\n",
       "+-------------+------+--------+-------+-------+---------+-------------------+------------------------+"
      ]
     },
     "execution_count": 15,
     "metadata": {},
     "output_type": "execute_result"
    }
   ],
   "source": [
    "%%sql\n",
    "select * from dev_curated_ecommerce.customers"
   ]
  },
  {
   "cell_type": "code",
   "execution_count": 6,
   "id": "6303b9d8-5247-48e4-b157-639f045e7bde",
   "metadata": {},
   "outputs": [
    {
     "data": {
      "text/html": [
       "<table>\n",
       "    <thead>\n",
       "        <tr>\n",
       "        </tr>\n",
       "    </thead>\n",
       "    <tbody>\n",
       "    </tbody>\n",
       "</table>"
      ],
      "text/plain": [
       "++\n",
       "||\n",
       "++\n",
       "++"
      ]
     },
     "execution_count": 6,
     "metadata": {},
     "output_type": "execute_result"
    }
   ],
   "source": [
    "%%sql\n",
    "insert into dev_raw_ecommerce.customers(customer_id, name, gender, email, phone, country, registration_date, acquisition_channel_id)\n",
    "values (11, 'Michael Su', 'F', 'ms@mail.com', '123321123321', 'CN', cast(date_format('2020-01-15 03:23:48', 'yyyy-MM-dd HH:mm:ss') as timestamp), 2)"
   ]
  },
  {
   "cell_type": "code",
   "execution_count": 8,
   "id": "6c69ad3e-8b93-4f36-801e-46f2d7312c91",
   "metadata": {},
   "outputs": [
    {
     "name": "stderr",
     "output_type": "stream",
     "text": [
      "24/12/03 02:28:29 WARN SparkSession: Using an existing Spark session; only runtime SQL configurations will take effect.\n"
     ]
    }
   ],
   "source": [
    "spark = SparkSession.builder \\\n",
    "    .appName(\"PostgreSQL to MinIO with Iceberg DataLakehouse\") \\\n",
    "    .getOrCreate()"
   ]
  },
  {
   "cell_type": "code",
   "execution_count": 9,
   "id": "dbb3492a-ed5e-4fb6-9dd8-6d44df9205fb",
   "metadata": {},
   "outputs": [
    {
     "data": {
      "text/html": [
       "\n",
       "            <div>\n",
       "                <p><b>SparkSession - in-memory</b></p>\n",
       "                \n",
       "        <div>\n",
       "            <p><b>SparkContext</b></p>\n",
       "\n",
       "            <p><a href=\"http://8044bc7f50e5:4041\">Spark UI</a></p>\n",
       "\n",
       "            <dl>\n",
       "              <dt>Version</dt>\n",
       "                <dd><code>v3.5.1</code></dd>\n",
       "              <dt>Master</dt>\n",
       "                <dd><code>local[*]</code></dd>\n",
       "              <dt>AppName</dt>\n",
       "                <dd><code>PySparkShell</code></dd>\n",
       "            </dl>\n",
       "        </div>\n",
       "        \n",
       "            </div>\n",
       "        "
      ],
      "text/plain": [
       "<pyspark.sql.session.SparkSession at 0x7f09d1a23a30>"
      ]
     },
     "execution_count": 9,
     "metadata": {},
     "output_type": "execute_result"
    }
   ],
   "source": [
    "spark"
   ]
  }
 ],
 "metadata": {
  "kernelspec": {
   "display_name": "Python 3 (ipykernel)",
   "language": "python",
   "name": "python3"
  },
  "language_info": {
   "codemirror_mode": {
    "name": "ipython",
    "version": 3
   },
   "file_extension": ".py",
   "mimetype": "text/x-python",
   "name": "python",
   "nbconvert_exporter": "python",
   "pygments_lexer": "ipython3",
   "version": "3.10.16"
  }
 },
 "nbformat": 4,
 "nbformat_minor": 5
}
