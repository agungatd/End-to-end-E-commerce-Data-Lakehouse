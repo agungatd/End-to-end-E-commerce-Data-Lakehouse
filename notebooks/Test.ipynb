{
 "cells": [
  {
   "cell_type": "code",
   "execution_count": 2,
   "id": "f9e5c993-7082-4f23-996b-2921b0dbed5f",
   "metadata": {},
   "outputs": [
    {
     "data": {
      "text/html": [
       "<table>\n",
       "    <thead>\n",
       "        <tr>\n",
       "        </tr>\n",
       "    </thead>\n",
       "    <tbody>\n",
       "    </tbody>\n",
       "</table>"
      ],
      "text/plain": [
       "++\n",
       "||\n",
       "++\n",
       "++"
      ]
     },
     "execution_count": 2,
     "metadata": {},
     "output_type": "execute_result"
    }
   ],
   "source": [
    "%%sql\n",
    "CREATE DATABASE IF NOT EXISTS dev_temp_curated;"
   ]
  },
  {
   "cell_type": "code",
   "execution_count": 7,
   "id": "1b91d4ac-cb1a-4a3a-99a3-4b61db311d96",
   "metadata": {},
   "outputs": [
    {
     "data": {
      "text/html": [
       "<table>\n",
       "    <thead>\n",
       "        <tr>\n",
       "        </tr>\n",
       "    </thead>\n",
       "    <tbody>\n",
       "    </tbody>\n",
       "</table>"
      ],
      "text/plain": [
       "++\n",
       "||\n",
       "++\n",
       "++"
      ]
     },
     "execution_count": 7,
     "metadata": {},
     "output_type": "execute_result"
    }
   ],
   "source": [
    "%%sql\n",
    "drop table dev_temp_raw._temp_table"
   ]
  },
  {
   "cell_type": "code",
   "execution_count": 9,
   "id": "9d5269d8-f436-4e72-94c6-898baaa5c0ff",
   "metadata": {},
   "outputs": [
    {
     "data": {
      "text/html": [
       "<table>\n",
       "    <thead>\n",
       "        <tr>\n",
       "        </tr>\n",
       "    </thead>\n",
       "    <tbody>\n",
       "    </tbody>\n",
       "</table>"
      ],
      "text/plain": [
       "++\n",
       "||\n",
       "++\n",
       "++"
      ]
     },
     "execution_count": 9,
     "metadata": {},
     "output_type": "execute_result"
    }
   ],
   "source": [
    "%%sql\n",
    "CREATE TABLE IF NOT EXISTS dev_temp_raw._temp_table (\n",
    "    id                    integer,\n",
    "    name                  string,\n",
    "    age                   integer,\n",
    "    created_at            timestamp\n",
    ")\n",
    "USING iceberg\n",
    "PARTITIONED BY (days(created_at))"
   ]
  },
  {
   "cell_type": "code",
   "execution_count": 3,
   "id": "2e5d4ff4-9e30-421e-a834-6e5b109815d3",
   "metadata": {
    "scrolled": true
   },
   "outputs": [
    {
     "name": "stderr",
     "output_type": "stream",
     "text": [
      "                                                                                "
     ]
    }
   ],
   "source": [
    "from datetime import datetime\n",
    "\n",
    "schema = spark.table(\"climate.weather\").schema\n",
    "\n",
    "data = [\n",
    "    (datetime(2023,8,16), 76.2, 40.951908, -74.075272, \"Partially sunny\", 0.0, 3.5),\n",
    "    (datetime(2023,8,17), 82.5, 40.951908, -74.075272, \"Sunny\", 0.0, 1.2),\n",
    "    (datetime(2023,8,18), 70.9, 40.951908, -74.075272, \"Cloudy\", .5, 5.2)\n",
    "  ]\n",
    "\n",
    "df = spark.createDataFrame(data, schema)\n",
    "df.writeTo(\"climate.weather\").append()"
   ]
  },
  {
   "cell_type": "code",
   "execution_count": 4,
   "id": "46b82cc3-c149-4698-9042-1c677561cb12",
   "metadata": {},
   "outputs": [
    {
     "name": "stdout",
     "output_type": "stream",
     "text": [
      "+-------------------+----+---------+----------+---------------+------+----------+\n",
      "|           datetime|temp|      lat|      long| cloud_coverage|precip|wind_speed|\n",
      "+-------------------+----+---------+----------+---------------+------+----------+\n",
      "|2023-08-16 00:00:00|76.2|40.951908|-74.075272|Partially sunny|   0.0|       3.5|\n",
      "|2023-08-17 00:00:00|82.5|40.951908|-74.075272|          Sunny|   0.0|       1.2|\n",
      "|2023-08-18 00:00:00|70.9|40.951908|-74.075272|         Cloudy|   0.5|       5.2|\n",
      "+-------------------+----+---------+----------+---------------+------+----------+\n",
      "\n"
     ]
    }
   ],
   "source": [
    "df.show()"
   ]
  },
  {
   "cell_type": "code",
   "execution_count": 8,
   "id": "f6101b61-8ef7-4f39-8d41-5c0b87e3ecca",
   "metadata": {},
   "outputs": [
    {
     "data": {
      "text/html": [
       "<table>\n",
       "    <thead>\n",
       "        <tr>\n",
       "            <th>month(datetime)</th>\n",
       "            <th>avg(wind_speed)</th>\n",
       "        </tr>\n",
       "    </thead>\n",
       "    <tbody>\n",
       "        <tr>\n",
       "            <td>8</td>\n",
       "            <td>2.35</td>\n",
       "        </tr>\n",
       "    </tbody>\n",
       "</table>"
      ],
      "text/plain": [
       "+-----------------+-----------------+\n",
       "| month(datetime) | avg(wind_speed) |\n",
       "+-----------------+-----------------+\n",
       "|               8 |            2.35 |\n",
       "+-----------------+-----------------+"
      ]
     },
     "execution_count": 8,
     "metadata": {},
     "output_type": "execute_result"
    }
   ],
   "source": [
    "%%sql\n",
    "select\n",
    "    month(datetime), avg(wind_speed) \n",
    "from climate.weather\n",
    "where lower(cloud_coverage) like '%sun%'\n",
    "group by month(datetime)"
   ]
  },
  {
   "cell_type": "markdown",
   "id": "90e700ca-8da0-403e-906a-8a968735b58e",
   "metadata": {},
   "source": [
    "### Test Postgres\n",
    "---"
   ]
  },
  {
   "cell_type": "code",
   "execution_count": 6,
   "id": "5bb59d24-938b-4fcb-af27-f21c46e683b8",
   "metadata": {},
   "outputs": [
    {
     "name": "stdout",
     "output_type": "stream",
     "text": [
      "Reading data from PostgreSQL, table: customers...\n",
      "+-----------+---------+------+-------------+--------------+-------+-------------------+----------------------+\n",
      "|customer_id|     name|gender|        email|         phone|country|  registration_date|acquisition_channel_id|\n",
      "+-----------+---------+------+-------------+--------------+-------+-------------------+----------------------+\n",
      "|  999999991|test user|     M|test@mail.com|+1232131231231|    ABC|2020-01-05 02:23:49|                     3|\n",
      "+-----------+---------+------+-------------+--------------+-------+-------------------+----------------------+\n",
      "\n",
      "None\n"
     ]
    }
   ],
   "source": [
    "tables = [\"customer_acquisition_channels\", \"customers\", \"inventory\", \"order_items\", \"orders\", \"product_categories\", \"products\"]\n",
    "tables = [\"customers\"]\n",
    "jdbc_url = \"jdbc:postgresql://postgres/ecommerce\"\n",
    "jdbc_properties = {\n",
    "    \"user\": \"postgres\",\n",
    "    \"password\": \"postgres\",\n",
    "    \"driver\": \"org.postgresql.Driver\"\n",
    "}\n",
    "def get_df(jdbc_url, jdbc_prop, table):\n",
    "    # Read data from PostgreSQL\n",
    "    print(f\"Reading data from PostgreSQL, table: {table}...\")\n",
    "    query = f\"\"\"\n",
    "        select * from {table}\n",
    "        where registration_date > '2020-01-05 02:23:48.000'\n",
    "    \"\"\"\n",
    "    # postgres_df = spark.read.jdbc(url=jdbc_url, query=query, table=table, properties=jdbc_prop)\n",
    "    postgres_df = spark.read.format('jdbc') \\\n",
    "                    .option(\"url\", jdbc_url) \\\n",
    "                    .option(\"query\",query) \\\n",
    "                    .option(\"user\",\"postgres\") \\\n",
    "                    .option(\"password\",\"postgres\") \\\n",
    "                    .option(\"driver\",\"org.postgresql.Driver\") \\\n",
    "                    .load()\n",
    "    print(postgres_df.show())\n",
    "\n",
    "for table in tables:\n",
    "    get_df(jdbc_url, jdbc_properties, table)"
   ]
  },
  {
   "cell_type": "code",
   "execution_count": 4,
   "id": "1e7af9c1-ee93-435d-8016-8ee7232b5242",
   "metadata": {},
   "outputs": [
    {
     "name": "stdout",
     "output_type": "stream",
     "text": [
      "Writing data to Iceberg table: demo.ecommerce.customers\n"
     ]
    },
    {
     "name": "stderr",
     "output_type": "stream",
     "text": [
      "                                                                                "
     ]
    },
    {
     "name": "stdout",
     "output_type": "stream",
     "text": [
      "Data migration completed successfully!\n"
     ]
    }
   ],
   "source": [
    "# Write data to MinIO in Iceberg format\n",
    "iceberg_table = \"demo.ecommerce.customers\"\n",
    "\n",
    "print(f\"Writing data to Iceberg table: {iceberg_table}\")\n",
    "postgres_df.writeTo(iceberg_table).createOrReplace()\n",
    "\n",
    "print(\"Data migration completed successfully!\")"
   ]
  },
  {
   "cell_type": "code",
   "execution_count": 11,
   "id": "9d8796fa-5c8b-4c75-b80f-642be81fda20",
   "metadata": {},
   "outputs": [
    {
     "name": "stderr",
     "output_type": "stream",
     "text": [
      "                                                                                "
     ]
    },
    {
     "data": {
      "text/html": [
       "<table>\n",
       "    <thead>\n",
       "        <tr>\n",
       "            <th>id</th>\n",
       "            <th>name</th>\n",
       "            <th>age</th>\n",
       "            <th>created_at</th>\n",
       "        </tr>\n",
       "    </thead>\n",
       "    <tbody>\n",
       "        <tr>\n",
       "            <td>1</td>\n",
       "            <td>agung</td>\n",
       "            <td>120</td>\n",
       "            <td>2024-12-13 15:58:07.574431</td>\n",
       "        </tr>\n",
       "        <tr>\n",
       "            <td>2</td>\n",
       "            <td>tri</td>\n",
       "            <td>120</td>\n",
       "            <td>2024-12-13 15:58:07.574431</td>\n",
       "        </tr>\n",
       "        <tr>\n",
       "            <td>3</td>\n",
       "            <td>atd</td>\n",
       "            <td>1</td>\n",
       "            <td>2024-12-13 15:58:07.574431</td>\n",
       "        </tr>\n",
       "        <tr>\n",
       "            <td>1</td>\n",
       "            <td>agung</td>\n",
       "            <td>120</td>\n",
       "            <td>2024-12-13 15:58:07.574431</td>\n",
       "        </tr>\n",
       "        <tr>\n",
       "            <td>2</td>\n",
       "            <td>tri</td>\n",
       "            <td>120</td>\n",
       "            <td>2024-12-13 15:58:07.574431</td>\n",
       "        </tr>\n",
       "        <tr>\n",
       "            <td>3</td>\n",
       "            <td>atd</td>\n",
       "            <td>1</td>\n",
       "            <td>2024-12-13 15:58:07.574431</td>\n",
       "        </tr>\n",
       "        <tr>\n",
       "            <td>1</td>\n",
       "            <td>agung</td>\n",
       "            <td>120</td>\n",
       "            <td>2024-12-13 15:58:07.574431</td>\n",
       "        </tr>\n",
       "        <tr>\n",
       "            <td>2</td>\n",
       "            <td>tri</td>\n",
       "            <td>120</td>\n",
       "            <td>2024-12-13 15:58:07.574431</td>\n",
       "        </tr>\n",
       "        <tr>\n",
       "            <td>3</td>\n",
       "            <td>atd</td>\n",
       "            <td>1</td>\n",
       "            <td>2024-12-13 15:58:07.574431</td>\n",
       "        </tr>\n",
       "    </tbody>\n",
       "</table>"
      ],
      "text/plain": [
       "+----+-------+-----+----------------------------+\n",
       "| id |  name | age |                 created_at |\n",
       "+----+-------+-----+----------------------------+\n",
       "|  1 | agung | 120 | 2024-12-13 15:58:07.574431 |\n",
       "|  2 |   tri | 120 | 2024-12-13 15:58:07.574431 |\n",
       "|  3 |   atd |   1 | 2024-12-13 15:58:07.574431 |\n",
       "|  1 | agung | 120 | 2024-12-13 15:58:07.574431 |\n",
       "|  2 |   tri | 120 | 2024-12-13 15:58:07.574431 |\n",
       "|  3 |   atd |   1 | 2024-12-13 15:58:07.574431 |\n",
       "|  1 | agung | 120 | 2024-12-13 15:58:07.574431 |\n",
       "|  2 |   tri | 120 | 2024-12-13 15:58:07.574431 |\n",
       "|  3 |   atd |   1 | 2024-12-13 15:58:07.574431 |\n",
       "+----+-------+-----+----------------------------+"
      ]
     },
     "execution_count": 11,
     "metadata": {},
     "output_type": "execute_result"
    }
   ],
   "source": [
    "%%sql\n",
    "-- select * from ecommerce.customers\n",
    "select * from dev_temp_raw._temp_table"
   ]
  },
  {
   "cell_type": "code",
   "execution_count": 6,
   "id": "6303b9d8-5247-48e4-b157-639f045e7bde",
   "metadata": {},
   "outputs": [
    {
     "data": {
      "text/plain": [
       "StructType([StructField('customer_id', IntegerType(), True), StructField('name', StringType(), True), StructField('gender', StringType(), True), StructField('email', StringType(), True), StructField('phone', StringType(), True), StructField('country', StringType(), True), StructField('registration_date', TimestampType(), True), StructField('acquisition_channel_id', IntegerType(), True)])"
      ]
     },
     "execution_count": 6,
     "metadata": {},
     "output_type": "execute_result"
    }
   ],
   "source": [
    "spark.table(\"ecommerce.customers\").schema"
   ]
  },
  {
   "cell_type": "code",
   "execution_count": 11,
   "id": "6c69ad3e-8b93-4f36-801e-46f2d7312c91",
   "metadata": {},
   "outputs": [
    {
     "data": {
      "text/plain": [
       "datetime.datetime(2020, 1, 5, 2, 23, 49)"
      ]
     },
     "execution_count": 11,
     "metadata": {},
     "output_type": "execute_result"
    }
   ],
   "source": [
    "query = '''select max(registration_date) from customers'''\n",
    "df = spark.read.format('jdbc') \\\n",
    "        .option(\"url\", \"jdbc:postgresql://postgres/ecommerce\") \\\n",
    "        .option(\"query\",query) \\\n",
    "        .option(\"user\",\"postgres\") \\\n",
    "        .option(\"password\",\"postgres\") \\\n",
    "        .option(\"driver\",\"org.postgresql.Driver\") \\\n",
    "        .load()\n",
    "last_date = df.first()[0]\n",
    "last_date"
   ]
  },
  {
   "cell_type": "code",
   "execution_count": 12,
   "id": "e75e8878-b42b-44f3-9504-aff1fec4b8fd",
   "metadata": {},
   "outputs": [
    {
     "name": "stdout",
     "output_type": "stream",
     "text": [
      "+-------------------+\n",
      "|                max|\n",
      "+-------------------+\n",
      "|2020-01-05 02:23:48|\n",
      "+-------------------+\n",
      "\n"
     ]
    }
   ],
   "source": [
    "query = f'''select max(registration_date) from customers where registration_date < '{last_date}' '''\n",
    "df = spark.read.format('jdbc') \\\n",
    "        .option(\"url\", \"jdbc:postgresql://postgres/ecommerce\") \\\n",
    "        .option(\"query\",query) \\\n",
    "        .option(\"user\",\"postgres\") \\\n",
    "        .option(\"password\",\"postgres\") \\\n",
    "        .option(\"driver\",\"org.postgresql.Driver\") \\\n",
    "        .load()\n",
    "df.show()"
   ]
  },
  {
   "cell_type": "code",
   "execution_count": 16,
   "id": "9e3d8482-2317-4d2e-a1f5-8bf313fc06c8",
   "metadata": {},
   "outputs": [
    {
     "data": {
      "text/plain": [
       "'2020-01-05 02:23:49'"
      ]
     },
     "execution_count": 16,
     "metadata": {},
     "output_type": "execute_result"
    }
   ],
   "source": []
  },
  {
   "cell_type": "code",
   "execution_count": 1,
   "id": "dbb3492a-ed5e-4fb6-9dd8-6d44df9205fb",
   "metadata": {},
   "outputs": [
    {
     "data": {
      "text/html": [
       "\n",
       "            <div>\n",
       "                <p><b>SparkSession - in-memory</b></p>\n",
       "                \n",
       "        <div>\n",
       "            <p><b>SparkContext</b></p>\n",
       "\n",
       "            <p><a href=\"http://9c9066531545:4041\">Spark UI</a></p>\n",
       "\n",
       "            <dl>\n",
       "              <dt>Version</dt>\n",
       "                <dd><code>v3.5.3</code></dd>\n",
       "              <dt>Master</dt>\n",
       "                <dd><code>local[*]</code></dd>\n",
       "              <dt>AppName</dt>\n",
       "                <dd><code>PySparkShell</code></dd>\n",
       "            </dl>\n",
       "        </div>\n",
       "        \n",
       "            </div>\n",
       "        "
      ],
      "text/plain": [
       "<pyspark.sql.session.SparkSession at 0x7f6174149570>"
      ]
     },
     "execution_count": 1,
     "metadata": {},
     "output_type": "execute_result"
    }
   ],
   "source": [
    "spark"
   ]
  }
 ],
 "metadata": {
  "kernelspec": {
   "display_name": "Python 3 (ipykernel)",
   "language": "python",
   "name": "python3"
  },
  "language_info": {
   "codemirror_mode": {
    "name": "ipython",
    "version": 3
   },
   "file_extension": ".py",
   "mimetype": "text/x-python",
   "name": "python",
   "nbconvert_exporter": "python",
   "pygments_lexer": "ipython3",
   "version": "3.10.16"
  }
 },
 "nbformat": 4,
 "nbformat_minor": 5
}
