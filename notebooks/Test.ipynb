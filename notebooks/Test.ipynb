{
 "cells": [
  {
   "cell_type": "code",
   "execution_count": 8,
   "id": "f9e5c993-7082-4f23-996b-2921b0dbed5f",
   "metadata": {},
   "outputs": [
    {
     "data": {
      "text/html": [
       "<table>\n",
       "    <thead>\n",
       "        <tr>\n",
       "        </tr>\n",
       "    </thead>\n",
       "    <tbody>\n",
       "    </tbody>\n",
       "</table>"
      ],
      "text/plain": [
       "++\n",
       "||\n",
       "++\n",
       "++"
      ]
     },
     "execution_count": 8,
     "metadata": {},
     "output_type": "execute_result"
    }
   ],
   "source": [
    "%%sql\n",
    "CREATE DATABASE IF NOT EXISTS dev_curated_ecommerce;"
   ]
  },
  {
   "cell_type": "code",
   "execution_count": 2,
   "id": "92c1f59a-3e95-4123-be01-7fa70120d927",
   "metadata": {},
   "outputs": [
    {
     "data": {
      "text/html": [
       "<table>\n",
       "    <thead>\n",
       "        <tr>\n",
       "        </tr>\n",
       "    </thead>\n",
       "    <tbody>\n",
       "    </tbody>\n",
       "</table>"
      ],
      "text/plain": [
       "++\n",
       "||\n",
       "++\n",
       "++"
      ]
     },
     "execution_count": 2,
     "metadata": {},
     "output_type": "execute_result"
    }
   ],
   "source": [
    "%%sql\n",
    "drop table dev_curated_ecommerce.customers"
   ]
  },
  {
   "cell_type": "code",
   "execution_count": 9,
   "id": "9d5269d8-f436-4e72-94c6-898baaa5c0ff",
   "metadata": {},
   "outputs": [
    {
     "data": {
      "text/html": [
       "<table>\n",
       "    <thead>\n",
       "        <tr>\n",
       "        </tr>\n",
       "    </thead>\n",
       "    <tbody>\n",
       "    </tbody>\n",
       "</table>"
      ],
      "text/plain": [
       "++\n",
       "||\n",
       "++\n",
       "++"
      ]
     },
     "execution_count": 9,
     "metadata": {},
     "output_type": "execute_result"
    }
   ],
   "source": [
    "%%sql\n",
    "CREATE TABLE IF NOT EXISTS dev_curated_ecommerce.customers (\n",
    "    customer_id                 bigint NOT NULL COMMENT 'unique id',\n",
    "    name                        string,\n",
    "    first_name                  string,\n",
    "    last_name                   string,\n",
    "    gender                      string,\n",
    "    email                       string,\n",
    "    phone                       string,\n",
    "    country                     string,\n",
    "    registration_date           timestamp NOT NULL,\n",
    "    acquisition_channel_id      int\n",
    ")\n",
    "USING iceberg\n",
    "PARTITIONED BY (days(registration_date));"
   ]
  },
  {
   "cell_type": "code",
   "execution_count": 3,
   "id": "2e5d4ff4-9e30-421e-a834-6e5b109815d3",
   "metadata": {
    "scrolled": true
   },
   "outputs": [
    {
     "name": "stderr",
     "output_type": "stream",
     "text": [
      "                                                                                "
     ]
    }
   ],
   "source": [
    "from datetime import datetime\n",
    "\n",
    "schema = spark.table(\"climate.weather\").schema\n",
    "\n",
    "data = [\n",
    "    (datetime(2023,8,16), 76.2, 40.951908, -74.075272, \"Partially sunny\", 0.0, 3.5),\n",
    "    (datetime(2023,8,17), 82.5, 40.951908, -74.075272, \"Sunny\", 0.0, 1.2),\n",
    "    (datetime(2023,8,18), 70.9, 40.951908, -74.075272, \"Cloudy\", .5, 5.2)\n",
    "  ]\n",
    "\n",
    "df = spark.createDataFrame(data, schema)\n",
    "df.writeTo(\"climate.weather\").append()"
   ]
  },
  {
   "cell_type": "code",
   "execution_count": 4,
   "id": "46b82cc3-c149-4698-9042-1c677561cb12",
   "metadata": {},
   "outputs": [
    {
     "name": "stdout",
     "output_type": "stream",
     "text": [
      "+-------------------+----+---------+----------+---------------+------+----------+\n",
      "|           datetime|temp|      lat|      long| cloud_coverage|precip|wind_speed|\n",
      "+-------------------+----+---------+----------+---------------+------+----------+\n",
      "|2023-08-16 00:00:00|76.2|40.951908|-74.075272|Partially sunny|   0.0|       3.5|\n",
      "|2023-08-17 00:00:00|82.5|40.951908|-74.075272|          Sunny|   0.0|       1.2|\n",
      "|2023-08-18 00:00:00|70.9|40.951908|-74.075272|         Cloudy|   0.5|       5.2|\n",
      "+-------------------+----+---------+----------+---------------+------+----------+\n",
      "\n"
     ]
    }
   ],
   "source": [
    "df.show()"
   ]
  },
  {
   "cell_type": "code",
   "execution_count": 8,
   "id": "f6101b61-8ef7-4f39-8d41-5c0b87e3ecca",
   "metadata": {},
   "outputs": [
    {
     "data": {
      "text/html": [
       "<table>\n",
       "    <thead>\n",
       "        <tr>\n",
       "            <th>month(datetime)</th>\n",
       "            <th>avg(wind_speed)</th>\n",
       "        </tr>\n",
       "    </thead>\n",
       "    <tbody>\n",
       "        <tr>\n",
       "            <td>8</td>\n",
       "            <td>2.35</td>\n",
       "        </tr>\n",
       "    </tbody>\n",
       "</table>"
      ],
      "text/plain": [
       "+-----------------+-----------------+\n",
       "| month(datetime) | avg(wind_speed) |\n",
       "+-----------------+-----------------+\n",
       "|               8 |            2.35 |\n",
       "+-----------------+-----------------+"
      ]
     },
     "execution_count": 8,
     "metadata": {},
     "output_type": "execute_result"
    }
   ],
   "source": [
    "%%sql\n",
    "select\n",
    "    month(datetime), avg(wind_speed) \n",
    "from climate.weather\n",
    "where lower(cloud_coverage) like '%sun%'\n",
    "group by month(datetime)"
   ]
  },
  {
   "cell_type": "markdown",
   "id": "90e700ca-8da0-403e-906a-8a968735b58e",
   "metadata": {},
   "source": [
    "### Test Postgres\n",
    "---"
   ]
  },
  {
   "cell_type": "code",
   "execution_count": 6,
   "id": "5bb59d24-938b-4fcb-af27-f21c46e683b8",
   "metadata": {},
   "outputs": [
    {
     "name": "stdout",
     "output_type": "stream",
     "text": [
      "Reading data from PostgreSQL, table: customers...\n",
      "+-----------+---------+------+-------------+--------------+-------+-------------------+----------------------+\n",
      "|customer_id|     name|gender|        email|         phone|country|  registration_date|acquisition_channel_id|\n",
      "+-----------+---------+------+-------------+--------------+-------+-------------------+----------------------+\n",
      "|  999999991|test user|     M|test@mail.com|+1232131231231|    ABC|2020-01-05 02:23:49|                     3|\n",
      "+-----------+---------+------+-------------+--------------+-------+-------------------+----------------------+\n",
      "\n",
      "None\n"
     ]
    }
   ],
   "source": [
    "tables = [\"customer_acquisition_channels\", \"customers\", \"inventory\", \"order_items\", \"orders\", \"product_categories\", \"products\"]\n",
    "tables = [\"customers\"]\n",
    "jdbc_url = \"jdbc:postgresql://postgres/ecommerce\"\n",
    "jdbc_properties = {\n",
    "    \"user\": \"postgres\",\n",
    "    \"password\": \"postgres\",\n",
    "    \"driver\": \"org.postgresql.Driver\"\n",
    "}\n",
    "def get_df(jdbc_url, jdbc_prop, table):\n",
    "    # Read data from PostgreSQL\n",
    "    print(f\"Reading data from PostgreSQL, table: {table}...\")\n",
    "    query = f\"\"\"\n",
    "        select * from {table}\n",
    "        where registration_date > '2020-01-05 02:23:48.000'\n",
    "    \"\"\"\n",
    "    # postgres_df = spark.read.jdbc(url=jdbc_url, query=query, table=table, properties=jdbc_prop)\n",
    "    postgres_df = spark.read.format('jdbc') \\\n",
    "                    .option(\"url\", jdbc_url) \\\n",
    "                    .option(\"query\",query) \\\n",
    "                    .option(\"user\",\"postgres\") \\\n",
    "                    .option(\"password\",\"postgres\") \\\n",
    "                    .option(\"driver\",\"org.postgresql.Driver\") \\\n",
    "                    .load()\n",
    "    print(postgres_df.show())\n",
    "\n",
    "for table in tables:\n",
    "    get_df(jdbc_url, jdbc_properties, table)"
   ]
  },
  {
   "cell_type": "code",
   "execution_count": 4,
   "id": "1e7af9c1-ee93-435d-8016-8ee7232b5242",
   "metadata": {},
   "outputs": [
    {
     "name": "stdout",
     "output_type": "stream",
     "text": [
      "Writing data to Iceberg table: demo.ecommerce.customers\n"
     ]
    },
    {
     "name": "stderr",
     "output_type": "stream",
     "text": [
      "                                                                                "
     ]
    },
    {
     "name": "stdout",
     "output_type": "stream",
     "text": [
      "Data migration completed successfully!\n"
     ]
    }
   ],
   "source": [
    "# Write data to MinIO in Iceberg format\n",
    "iceberg_table = \"demo.ecommerce.customers\"\n",
    "\n",
    "print(f\"Writing data to Iceberg table: {iceberg_table}\")\n",
    "postgres_df.writeTo(iceberg_table).createOrReplace()\n",
    "\n",
    "print(\"Data migration completed successfully!\")"
   ]
  },
  {
   "cell_type": "code",
   "execution_count": 3,
   "id": "63f20f18-5652-4820-9217-a8ddf9cf0d9e",
   "metadata": {},
   "outputs": [
    {
     "name": "stderr",
     "output_type": "stream",
     "text": [
      "                                                                                "
     ]
    },
    {
     "data": {
      "text/html": [
       "<table>\n",
       "    <thead>\n",
       "        <tr>\n",
       "            <th>customer_id</th>\n",
       "            <th>name</th>\n",
       "            <th>gender</th>\n",
       "            <th>email</th>\n",
       "            <th>phone</th>\n",
       "            <th>country</th>\n",
       "            <th>registration_date</th>\n",
       "            <th>acquisition_channel_id</th>\n",
       "        </tr>\n",
       "    </thead>\n",
       "    <tbody>\n",
       "        <tr>\n",
       "            <td>6</td>\n",
       "            <td>Muhammad Abdullah</td>\n",
       "            <td>M</td>\n",
       "            <td>Muhammad.Abdullah@mail.com</td>\n",
       "            <td>+966123456789</td>\n",
       "            <td>SA </td>\n",
       "            <td>2020-01-03 23:00:14</td>\n",
       "            <td>12</td>\n",
       "        </tr>\n",
       "        <tr>\n",
       "            <td>8</td>\n",
       "            <td>Wang Yichen</td>\n",
       "            <td>M</td>\n",
       "            <td>Wang.Yichen@mail.com</td>\n",
       "            <td>+86123456789</td>\n",
       "            <td>CN </td>\n",
       "            <td>2020-01-03 23:50:55</td>\n",
       "            <td>2</td>\n",
       "        </tr>\n",
       "        <tr>\n",
       "            <td>9</td>\n",
       "            <td>Sanjaya Putra</td>\n",
       "            <td>M</td>\n",
       "            <td>Sanjaya.Putra@mail.com</td>\n",
       "            <td>+628123456789</td>\n",
       "            <td>ID </td>\n",
       "            <td>2020-01-04 18:04:12</td>\n",
       "            <td>1</td>\n",
       "        </tr>\n",
       "        <tr>\n",
       "            <td>1</td>\n",
       "            <td>John Doe</td>\n",
       "            <td>M</td>\n",
       "            <td>John.Doe@mail.com</td>\n",
       "            <td>+11239879877</td>\n",
       "            <td>US </td>\n",
       "            <td>2020-01-01 07:16:37</td>\n",
       "            <td>11</td>\n",
       "        </tr>\n",
       "        <tr>\n",
       "            <td>3</td>\n",
       "            <td>Elon Musk</td>\n",
       "            <td>M</td>\n",
       "            <td>Elon.Musk@mail.com</td>\n",
       "            <td>+11239879872</td>\n",
       "            <td>US </td>\n",
       "            <td>2020-01-01 09:46:43</td>\n",
       "            <td>10</td>\n",
       "        </tr>\n",
       "        <tr>\n",
       "            <td>5</td>\n",
       "            <td>Eleanor Rigby</td>\n",
       "            <td>M</td>\n",
       "            <td>Eleanor.Rigby@mail.com</td>\n",
       "            <td>+441234567891</td>\n",
       "            <td>GB </td>\n",
       "            <td>2020-01-01 18:34:50</td>\n",
       "            <td>5</td>\n",
       "        </tr>\n",
       "        <tr>\n",
       "            <td>7</td>\n",
       "            <td>Eiichiro Oda</td>\n",
       "            <td>M</td>\n",
       "            <td>Eiichiro.Oda@mail.com</td>\n",
       "            <td>+81123456789</td>\n",
       "            <td>JP </td>\n",
       "            <td>2020-01-01 23:04:31</td>\n",
       "            <td>4</td>\n",
       "        </tr>\n",
       "        <tr>\n",
       "            <td>2</td>\n",
       "            <td>Jane Doe</td>\n",
       "            <td>F</td>\n",
       "            <td>Jane.Doe@mail.com</td>\n",
       "            <td>+11239879871</td>\n",
       "            <td>US </td>\n",
       "            <td>2020-01-02 00:21:00</td>\n",
       "            <td>7</td>\n",
       "        </tr>\n",
       "        <tr>\n",
       "            <td>4</td>\n",
       "            <td>Bill Gates</td>\n",
       "            <td>M</td>\n",
       "            <td>Bill.Gates@mail.com</td>\n",
       "            <td>+11239879873</td>\n",
       "            <td>US </td>\n",
       "            <td>2020-01-02 16:26:29</td>\n",
       "            <td>1</td>\n",
       "        </tr>\n",
       "        <tr>\n",
       "            <td>10</td>\n",
       "            <td>Daran Tasha</td>\n",
       "            <td>F</td>\n",
       "            <td>Daran.Tasha@mail.com</td>\n",
       "            <td>+7112323456789</td>\n",
       "            <td>RU </td>\n",
       "            <td>2020-01-05 02:23:48</td>\n",
       "            <td>11</td>\n",
       "        </tr>\n",
       "    </tbody>\n",
       "</table>"
      ],
      "text/plain": [
       "+-------------+-------------------+--------+----------------------------+----------------+---------+---------------------+------------------------+\n",
       "| customer_id |              name | gender |                      email |          phone | country |   registration_date | acquisition_channel_id |\n",
       "+-------------+-------------------+--------+----------------------------+----------------+---------+---------------------+------------------------+\n",
       "|           6 | Muhammad Abdullah |      M | Muhammad.Abdullah@mail.com |  +966123456789 |     SA  | 2020-01-03 23:00:14 |                     12 |\n",
       "|           8 |       Wang Yichen |      M |       Wang.Yichen@mail.com |   +86123456789 |     CN  | 2020-01-03 23:50:55 |                      2 |\n",
       "|           9 |     Sanjaya Putra |      M |     Sanjaya.Putra@mail.com |  +628123456789 |     ID  | 2020-01-04 18:04:12 |                      1 |\n",
       "|           1 |          John Doe |      M |          John.Doe@mail.com |   +11239879877 |     US  | 2020-01-01 07:16:37 |                     11 |\n",
       "|           3 |         Elon Musk |      M |         Elon.Musk@mail.com |   +11239879872 |     US  | 2020-01-01 09:46:43 |                     10 |\n",
       "|           5 |     Eleanor Rigby |      M |     Eleanor.Rigby@mail.com |  +441234567891 |     GB  | 2020-01-01 18:34:50 |                      5 |\n",
       "|           7 |      Eiichiro Oda |      M |      Eiichiro.Oda@mail.com |   +81123456789 |     JP  | 2020-01-01 23:04:31 |                      4 |\n",
       "|           2 |          Jane Doe |      F |          Jane.Doe@mail.com |   +11239879871 |     US  | 2020-01-02 00:21:00 |                      7 |\n",
       "|           4 |        Bill Gates |      M |        Bill.Gates@mail.com |   +11239879873 |     US  | 2020-01-02 16:26:29 |                      1 |\n",
       "|          10 |       Daran Tasha |      F |       Daran.Tasha@mail.com | +7112323456789 |     RU  | 2020-01-05 02:23:48 |                     11 |\n",
       "+-------------+-------------------+--------+----------------------------+----------------+---------+---------------------+------------------------+"
      ]
     },
     "execution_count": 3,
     "metadata": {},
     "output_type": "execute_result"
    }
   ],
   "source": [
    "%%sql\n",
    "select * from dev_raw_ecommerce.customers"
   ]
  },
  {
   "cell_type": "code",
   "execution_count": 8,
   "id": "9d8796fa-5c8b-4c75-b80f-642be81fda20",
   "metadata": {},
   "outputs": [
    {
     "data": {
      "text/html": [
       "<table>\n",
       "    <thead>\n",
       "        <tr>\n",
       "            <th>customer_id</th>\n",
       "            <th>name</th>\n",
       "            <th>gender</th>\n",
       "            <th>email</th>\n",
       "            <th>phone</th>\n",
       "            <th>country</th>\n",
       "            <th>registration_date</th>\n",
       "            <th>acquisition_channel_id</th>\n",
       "            <th>first_name</th>\n",
       "            <th>last_name</th>\n",
       "        </tr>\n",
       "    </thead>\n",
       "    <tbody>\n",
       "        <tr>\n",
       "            <td>6</td>\n",
       "            <td>Muhammad Abdullah</td>\n",
       "            <td>M</td>\n",
       "            <td>Muhammad.Abdullah@mail.com</td>\n",
       "            <td>+966123456789</td>\n",
       "            <td>SA </td>\n",
       "            <td>2020-01-03 23:00:14</td>\n",
       "            <td>12</td>\n",
       "            <td>Muhammad</td>\n",
       "            <td>Abdullah</td>\n",
       "        </tr>\n",
       "        <tr>\n",
       "            <td>8</td>\n",
       "            <td>Wang Yichen</td>\n",
       "            <td>M</td>\n",
       "            <td>Wang.Yichen@mail.com</td>\n",
       "            <td>+86123456789</td>\n",
       "            <td>CN </td>\n",
       "            <td>2020-01-03 23:50:55</td>\n",
       "            <td>2</td>\n",
       "            <td>Wang</td>\n",
       "            <td>Yichen</td>\n",
       "        </tr>\n",
       "        <tr>\n",
       "            <td>9</td>\n",
       "            <td>Sanjaya Putra</td>\n",
       "            <td>M</td>\n",
       "            <td>Sanjaya.Putra@mail.com</td>\n",
       "            <td>+628123456789</td>\n",
       "            <td>ID </td>\n",
       "            <td>2020-01-04 18:04:12</td>\n",
       "            <td>1</td>\n",
       "            <td>Sanjaya</td>\n",
       "            <td>Putra</td>\n",
       "        </tr>\n",
       "        <tr>\n",
       "            <td>1</td>\n",
       "            <td>John Doe</td>\n",
       "            <td>M</td>\n",
       "            <td>John.Doe@mail.com</td>\n",
       "            <td>+11239879877</td>\n",
       "            <td>US </td>\n",
       "            <td>2020-01-01 07:16:37</td>\n",
       "            <td>11</td>\n",
       "            <td>John</td>\n",
       "            <td>Doe</td>\n",
       "        </tr>\n",
       "        <tr>\n",
       "            <td>3</td>\n",
       "            <td>Elon Musk</td>\n",
       "            <td>M</td>\n",
       "            <td>Elon.Musk@mail.com</td>\n",
       "            <td>+11239879872</td>\n",
       "            <td>US </td>\n",
       "            <td>2020-01-01 09:46:43</td>\n",
       "            <td>10</td>\n",
       "            <td>Elon</td>\n",
       "            <td>Musk</td>\n",
       "        </tr>\n",
       "        <tr>\n",
       "            <td>5</td>\n",
       "            <td>Eleanor Rigby</td>\n",
       "            <td>M</td>\n",
       "            <td>Eleanor.Rigby@mail.com</td>\n",
       "            <td>+441234567891</td>\n",
       "            <td>GB </td>\n",
       "            <td>2020-01-01 18:34:50</td>\n",
       "            <td>5</td>\n",
       "            <td>Eleanor</td>\n",
       "            <td>Rigby</td>\n",
       "        </tr>\n",
       "        <tr>\n",
       "            <td>7</td>\n",
       "            <td>Eiichiro Oda</td>\n",
       "            <td>M</td>\n",
       "            <td>Eiichiro.Oda@mail.com</td>\n",
       "            <td>+81123456789</td>\n",
       "            <td>JP </td>\n",
       "            <td>2020-01-01 23:04:31</td>\n",
       "            <td>4</td>\n",
       "            <td>Eiichiro</td>\n",
       "            <td>Oda</td>\n",
       "        </tr>\n",
       "        <tr>\n",
       "            <td>2</td>\n",
       "            <td>Jane Doe</td>\n",
       "            <td>F</td>\n",
       "            <td>Jane.Doe@mail.com</td>\n",
       "            <td>+11239879871</td>\n",
       "            <td>US </td>\n",
       "            <td>2020-01-02 00:21:00</td>\n",
       "            <td>7</td>\n",
       "            <td>Jane</td>\n",
       "            <td>Doe</td>\n",
       "        </tr>\n",
       "        <tr>\n",
       "            <td>4</td>\n",
       "            <td>Bill Gates</td>\n",
       "            <td>M</td>\n",
       "            <td>Bill.Gates@mail.com</td>\n",
       "            <td>+11239879873</td>\n",
       "            <td>US </td>\n",
       "            <td>2020-01-02 16:26:29</td>\n",
       "            <td>1</td>\n",
       "            <td>Bill</td>\n",
       "            <td>Gates</td>\n",
       "        </tr>\n",
       "        <tr>\n",
       "            <td>10</td>\n",
       "            <td>Daran Tasha</td>\n",
       "            <td>F</td>\n",
       "            <td>Daran.Tasha@mail.com</td>\n",
       "            <td>+7112323456789</td>\n",
       "            <td>RU </td>\n",
       "            <td>2020-01-05 02:23:48</td>\n",
       "            <td>11</td>\n",
       "            <td>Daran</td>\n",
       "            <td>Tasha</td>\n",
       "        </tr>\n",
       "    </tbody>\n",
       "</table>"
      ],
      "text/plain": [
       "+-------------+-------------------+--------+----------------------------+----------------+---------+---------------------+------------------------+------------+-----------+\n",
       "| customer_id |              name | gender |                      email |          phone | country |   registration_date | acquisition_channel_id | first_name | last_name |\n",
       "+-------------+-------------------+--------+----------------------------+----------------+---------+---------------------+------------------------+------------+-----------+\n",
       "|           6 | Muhammad Abdullah |      M | Muhammad.Abdullah@mail.com |  +966123456789 |     SA  | 2020-01-03 23:00:14 |                     12 |   Muhammad |  Abdullah |\n",
       "|           8 |       Wang Yichen |      M |       Wang.Yichen@mail.com |   +86123456789 |     CN  | 2020-01-03 23:50:55 |                      2 |       Wang |    Yichen |\n",
       "|           9 |     Sanjaya Putra |      M |     Sanjaya.Putra@mail.com |  +628123456789 |     ID  | 2020-01-04 18:04:12 |                      1 |    Sanjaya |     Putra |\n",
       "|           1 |          John Doe |      M |          John.Doe@mail.com |   +11239879877 |     US  | 2020-01-01 07:16:37 |                     11 |       John |       Doe |\n",
       "|           3 |         Elon Musk |      M |         Elon.Musk@mail.com |   +11239879872 |     US  | 2020-01-01 09:46:43 |                     10 |       Elon |      Musk |\n",
       "|           5 |     Eleanor Rigby |      M |     Eleanor.Rigby@mail.com |  +441234567891 |     GB  | 2020-01-01 18:34:50 |                      5 |    Eleanor |     Rigby |\n",
       "|           7 |      Eiichiro Oda |      M |      Eiichiro.Oda@mail.com |   +81123456789 |     JP  | 2020-01-01 23:04:31 |                      4 |   Eiichiro |       Oda |\n",
       "|           2 |          Jane Doe |      F |          Jane.Doe@mail.com |   +11239879871 |     US  | 2020-01-02 00:21:00 |                      7 |       Jane |       Doe |\n",
       "|           4 |        Bill Gates |      M |        Bill.Gates@mail.com |   +11239879873 |     US  | 2020-01-02 16:26:29 |                      1 |       Bill |     Gates |\n",
       "|          10 |       Daran Tasha |      F |       Daran.Tasha@mail.com | +7112323456789 |     RU  | 2020-01-05 02:23:48 |                     11 |      Daran |     Tasha |\n",
       "+-------------+-------------------+--------+----------------------------+----------------+---------+---------------------+------------------------+------------+-----------+"
      ]
     },
     "execution_count": 8,
     "metadata": {},
     "output_type": "execute_result"
    }
   ],
   "source": [
    "%%sql\n",
    "select * from dev_curated_ecommerce.customers c\n",
    "-- delete from dev_curated_ecommerce.customers\n",
    "-- where 1=1"
   ]
  },
  {
   "cell_type": "code",
   "execution_count": 9,
   "id": "790456f7-a361-440d-b98e-ecf74500602f",
   "metadata": {},
   "outputs": [
    {
     "data": {
      "text/html": [
       "<table>\n",
       "    <thead>\n",
       "        <tr>\n",
       "            <th>customer_id</th>\n",
       "            <th>name</th>\n",
       "            <th>gender</th>\n",
       "            <th>email</th>\n",
       "            <th>phone</th>\n",
       "            <th>country</th>\n",
       "            <th>registration_date</th>\n",
       "            <th>acquisition_channel_id</th>\n",
       "            <th>first_name</th>\n",
       "            <th>last_name</th>\n",
       "            <th>channel_id</th>\n",
       "            <th>category</th>\n",
       "            <th>channel_name</th>\n",
       "            <th>description</th>\n",
       "            <th>acq_channel_created_at</th>\n",
       "        </tr>\n",
       "    </thead>\n",
       "    <tbody>\n",
       "        <tr>\n",
       "            <td>6</td>\n",
       "            <td>Muhammad Abdullah</td>\n",
       "            <td>M</td>\n",
       "            <td>Muhammad.Abdullah@mail.com</td>\n",
       "            <td>+966123456789</td>\n",
       "            <td>SA </td>\n",
       "            <td>2020-01-03 23:00:14</td>\n",
       "            <td>12</td>\n",
       "            <td>Muhammad</td>\n",
       "            <td>Abdullah</td>\n",
       "            <td>12</td>\n",
       "            <td>Traditional Ad</td>\n",
       "            <td>Print Media</td>\n",
       "            <td>None</td>\n",
       "            <td>2019-01-01 07:16:37</td>\n",
       "        </tr>\n",
       "        <tr>\n",
       "            <td>8</td>\n",
       "            <td>Wang Yichen</td>\n",
       "            <td>M</td>\n",
       "            <td>Wang.Yichen@mail.com</td>\n",
       "            <td>+86123456789</td>\n",
       "            <td>CN </td>\n",
       "            <td>2020-01-03 23:50:55</td>\n",
       "            <td>2</td>\n",
       "            <td>Wang</td>\n",
       "            <td>Yichen</td>\n",
       "            <td>2</td>\n",
       "            <td>Search</td>\n",
       "            <td>Paid Search</td>\n",
       "            <td>pay-per-click, is advertising on search engines. Plus, with platforms like Google Ads, we can place ads directly in search results and even on partner websites.</td>\n",
       "            <td>2019-01-01 07:16:37</td>\n",
       "        </tr>\n",
       "        <tr>\n",
       "            <td>9</td>\n",
       "            <td>Sanjaya Putra</td>\n",
       "            <td>M</td>\n",
       "            <td>Sanjaya.Putra@mail.com</td>\n",
       "            <td>+628123456789</td>\n",
       "            <td>ID </td>\n",
       "            <td>2020-01-04 18:04:12</td>\n",
       "            <td>1</td>\n",
       "            <td>Sanjaya</td>\n",
       "            <td>Putra</td>\n",
       "            <td>1</td>\n",
       "            <td>Search</td>\n",
       "            <td>Organic Search</td>\n",
       "            <td>Organic search is all about showing up on search engine results pages. Leverage using SEO</td>\n",
       "            <td>2019-01-01 07:16:37</td>\n",
       "        </tr>\n",
       "        <tr>\n",
       "            <td>1</td>\n",
       "            <td>John Doe</td>\n",
       "            <td>M</td>\n",
       "            <td>John.Doe@mail.com</td>\n",
       "            <td>+11239879877</td>\n",
       "            <td>US </td>\n",
       "            <td>2020-01-01 07:16:37</td>\n",
       "            <td>11</td>\n",
       "            <td>John</td>\n",
       "            <td>Doe</td>\n",
       "            <td>11</td>\n",
       "            <td>Traditional Ad</td>\n",
       "            <td>Radio</td>\n",
       "            <td>None</td>\n",
       "            <td>2019-01-01 07:16:37</td>\n",
       "        </tr>\n",
       "        <tr>\n",
       "            <td>3</td>\n",
       "            <td>Elon Musk</td>\n",
       "            <td>M</td>\n",
       "            <td>Elon.Musk@mail.com</td>\n",
       "            <td>+11239879872</td>\n",
       "            <td>US </td>\n",
       "            <td>2020-01-01 09:46:43</td>\n",
       "            <td>10</td>\n",
       "            <td>Elon</td>\n",
       "            <td>Musk</td>\n",
       "            <td>10</td>\n",
       "            <td>Traditional Ad</td>\n",
       "            <td>TV</td>\n",
       "            <td>None</td>\n",
       "            <td>2019-01-01 07:16:37</td>\n",
       "        </tr>\n",
       "        <tr>\n",
       "            <td>5</td>\n",
       "            <td>Eleanor Rigby</td>\n",
       "            <td>M</td>\n",
       "            <td>Eleanor.Rigby@mail.com</td>\n",
       "            <td>+441234567891</td>\n",
       "            <td>GB </td>\n",
       "            <td>2020-01-01 18:34:50</td>\n",
       "            <td>5</td>\n",
       "            <td>Eleanor</td>\n",
       "            <td>Rigby</td>\n",
       "            <td>5</td>\n",
       "            <td>Massaging</td>\n",
       "            <td>Email</td>\n",
       "            <td>Email marketing, Whether it’s a birthday wish or a valuable promo, email is a great way to connect with our audience. It’s a direct line to their inbox, bypassing the noise of social media and search engines.</td>\n",
       "            <td>2019-01-01 07:16:37</td>\n",
       "        </tr>\n",
       "        <tr>\n",
       "            <td>7</td>\n",
       "            <td>Eiichiro Oda</td>\n",
       "            <td>M</td>\n",
       "            <td>Eiichiro.Oda@mail.com</td>\n",
       "            <td>+81123456789</td>\n",
       "            <td>JP </td>\n",
       "            <td>2020-01-01 23:04:31</td>\n",
       "            <td>4</td>\n",
       "            <td>Eiichiro</td>\n",
       "            <td>Oda</td>\n",
       "            <td>4</td>\n",
       "            <td>Social Media</td>\n",
       "            <td>Paid Social Media</td>\n",
       "            <td>For example, sponsored posts on Facebook, X, or Instagram to get content seen by more people (targeted audiences).</td>\n",
       "            <td>2019-01-01 07:16:37</td>\n",
       "        </tr>\n",
       "        <tr>\n",
       "            <td>2</td>\n",
       "            <td>Jane Doe</td>\n",
       "            <td>F</td>\n",
       "            <td>Jane.Doe@mail.com</td>\n",
       "            <td>+11239879871</td>\n",
       "            <td>US </td>\n",
       "            <td>2020-01-02 00:21:00</td>\n",
       "            <td>7</td>\n",
       "            <td>Jane</td>\n",
       "            <td>Doe</td>\n",
       "            <td>7</td>\n",
       "            <td>Customer</td>\n",
       "            <td>Refferals</td>\n",
       "            <td>Referral marketing leverages the trust of personal recommendations to drive new customer acquisition.</td>\n",
       "            <td>2019-01-01 07:16:37</td>\n",
       "        </tr>\n",
       "        <tr>\n",
       "            <td>4</td>\n",
       "            <td>Bill Gates</td>\n",
       "            <td>M</td>\n",
       "            <td>Bill.Gates@mail.com</td>\n",
       "            <td>+11239879873</td>\n",
       "            <td>US </td>\n",
       "            <td>2020-01-02 16:26:29</td>\n",
       "            <td>1</td>\n",
       "            <td>Bill</td>\n",
       "            <td>Gates</td>\n",
       "            <td>1</td>\n",
       "            <td>Search</td>\n",
       "            <td>Organic Search</td>\n",
       "            <td>Organic search is all about showing up on search engine results pages. Leverage using SEO</td>\n",
       "            <td>2019-01-01 07:16:37</td>\n",
       "        </tr>\n",
       "        <tr>\n",
       "            <td>10</td>\n",
       "            <td>Daran Tasha</td>\n",
       "            <td>F</td>\n",
       "            <td>Daran.Tasha@mail.com</td>\n",
       "            <td>+7112323456789</td>\n",
       "            <td>RU </td>\n",
       "            <td>2020-01-05 02:23:48</td>\n",
       "            <td>11</td>\n",
       "            <td>Daran</td>\n",
       "            <td>Tasha</td>\n",
       "            <td>11</td>\n",
       "            <td>Traditional Ad</td>\n",
       "            <td>Radio</td>\n",
       "            <td>None</td>\n",
       "            <td>2019-01-01 07:16:37</td>\n",
       "        </tr>\n",
       "    </tbody>\n",
       "</table>"
      ],
      "text/plain": [
       "+-------------+-------------------+--------+----------------------------+----------------+---------+---------------------+------------------------+------------+-----------+------------+----------------+-------------------+------------------------------------------------------------------------------------------------------------------------------------------------------------------------------------------------------------------+------------------------+\n",
       "| customer_id |              name | gender |                      email |          phone | country |   registration_date | acquisition_channel_id | first_name | last_name | channel_id |       category |      channel_name |                                                                                                                                                                                                      description | acq_channel_created_at |\n",
       "+-------------+-------------------+--------+----------------------------+----------------+---------+---------------------+------------------------+------------+-----------+------------+----------------+-------------------+------------------------------------------------------------------------------------------------------------------------------------------------------------------------------------------------------------------+------------------------+\n",
       "|           6 | Muhammad Abdullah |      M | Muhammad.Abdullah@mail.com |  +966123456789 |     SA  | 2020-01-03 23:00:14 |                     12 |   Muhammad |  Abdullah |         12 | Traditional Ad |       Print Media |                                                                                                                                                                                                             None |    2019-01-01 07:16:37 |\n",
       "|           8 |       Wang Yichen |      M |       Wang.Yichen@mail.com |   +86123456789 |     CN  | 2020-01-03 23:50:55 |                      2 |       Wang |    Yichen |          2 |         Search |       Paid Search |                                                 pay-per-click, is advertising on search engines. Plus, with platforms like Google Ads, we can place ads directly in search results and even on partner websites. |    2019-01-01 07:16:37 |\n",
       "|           9 |     Sanjaya Putra |      M |     Sanjaya.Putra@mail.com |  +628123456789 |     ID  | 2020-01-04 18:04:12 |                      1 |    Sanjaya |     Putra |          1 |         Search |    Organic Search |                                                                                                                        Organic search is all about showing up on search engine results pages. Leverage using SEO |    2019-01-01 07:16:37 |\n",
       "|           1 |          John Doe |      M |          John.Doe@mail.com |   +11239879877 |     US  | 2020-01-01 07:16:37 |                     11 |       John |       Doe |         11 | Traditional Ad |             Radio |                                                                                                                                                                                                             None |    2019-01-01 07:16:37 |\n",
       "|           3 |         Elon Musk |      M |         Elon.Musk@mail.com |   +11239879872 |     US  | 2020-01-01 09:46:43 |                     10 |       Elon |      Musk |         10 | Traditional Ad |                TV |                                                                                                                                                                                                             None |    2019-01-01 07:16:37 |\n",
       "|           5 |     Eleanor Rigby |      M |     Eleanor.Rigby@mail.com |  +441234567891 |     GB  | 2020-01-01 18:34:50 |                      5 |    Eleanor |     Rigby |          5 |      Massaging |             Email | Email marketing, Whether it’s a birthday wish or a valuable promo, email is a great way to connect with our audience. It’s a direct line to their inbox, bypassing the noise of social media and search engines. |    2019-01-01 07:16:37 |\n",
       "|           7 |      Eiichiro Oda |      M |      Eiichiro.Oda@mail.com |   +81123456789 |     JP  | 2020-01-01 23:04:31 |                      4 |   Eiichiro |       Oda |          4 |   Social Media | Paid Social Media |                                                                                               For example, sponsored posts on Facebook, X, or Instagram to get content seen by more people (targeted audiences). |    2019-01-01 07:16:37 |\n",
       "|           2 |          Jane Doe |      F |          Jane.Doe@mail.com |   +11239879871 |     US  | 2020-01-02 00:21:00 |                      7 |       Jane |       Doe |          7 |       Customer |         Refferals |                                                                                                            Referral marketing leverages the trust of personal recommendations to drive new customer acquisition. |    2019-01-01 07:16:37 |\n",
       "|           4 |        Bill Gates |      M |        Bill.Gates@mail.com |   +11239879873 |     US  | 2020-01-02 16:26:29 |                      1 |       Bill |     Gates |          1 |         Search |    Organic Search |                                                                                                                        Organic search is all about showing up on search engine results pages. Leverage using SEO |    2019-01-01 07:16:37 |\n",
       "|          10 |       Daran Tasha |      F |       Daran.Tasha@mail.com | +7112323456789 |     RU  | 2020-01-05 02:23:48 |                     11 |      Daran |     Tasha |         11 | Traditional Ad |             Radio |                                                                                                                                                                                                             None |    2019-01-01 07:16:37 |\n",
       "+-------------+-------------------+--------+----------------------------+----------------+---------+---------------------+------------------------+------------+-----------+------------+----------------+-------------------+------------------------------------------------------------------------------------------------------------------------------------------------------------------------------------------------------------------+------------------------+"
      ]
     },
     "execution_count": 9,
     "metadata": {},
     "output_type": "execute_result"
    }
   ],
   "source": [
    "%%sql\n",
    "select * from dev_star_ecommerce.dim_customers"
   ]
  },
  {
   "cell_type": "code",
   "execution_count": 6,
   "id": "6303b9d8-5247-48e4-b157-639f045e7bde",
   "metadata": {},
   "outputs": [
    {
     "data": {
      "text/html": [
       "<table>\n",
       "    <thead>\n",
       "        <tr>\n",
       "        </tr>\n",
       "    </thead>\n",
       "    <tbody>\n",
       "    </tbody>\n",
       "</table>"
      ],
      "text/plain": [
       "++\n",
       "||\n",
       "++\n",
       "++"
      ]
     },
     "execution_count": 6,
     "metadata": {},
     "output_type": "execute_result"
    }
   ],
   "source": [
    "%%sql\n",
    "insert into dev_raw_ecommerce.customers(customer_id, name, gender, email, phone, country, registration_date, acquisition_channel_id)\n",
    "values (11, 'Michael Su', 'F', 'ms@mail.com', '123321123321', 'CN', cast(date_format('2020-01-15 03:23:48', 'yyyy-MM-dd HH:mm:ss') as timestamp), 2)"
   ]
  },
  {
   "cell_type": "code",
   "execution_count": 7,
   "id": "6c69ad3e-8b93-4f36-801e-46f2d7312c91",
   "metadata": {},
   "outputs": [
    {
     "name": "stdout",
     "output_type": "stream",
     "text": [
      "+-----------+-----------------+------+--------------------+--------------+-------+-------------------+----------------------+----------+---------+----------+--------------+-----------------+--------------------+-------------------+\n",
      "|customer_id|             name|gender|               email|         phone|country|  registration_date|acquisition_channel_id|first_name|last_name|channel_id|      category|     channel_name|         description|         created_at|\n",
      "+-----------+-----------------+------+--------------------+--------------+-------+-------------------+----------------------+----------+---------+----------+--------------+-----------------+--------------------+-------------------+\n",
      "|          6|Muhammad Abdullah|     M|Muhammad.Abdullah...| +966123456789|    SA |2020-01-03 23:00:14|                    12|  Muhammad| Abdullah|        12|Traditional Ad|      Print Media|                NULL|2019-01-01 07:16:37|\n",
      "|          8|      Wang Yichen|     M|Wang.Yichen@mail.com|  +86123456789|    CN |2020-01-03 23:50:55|                     2|      Wang|   Yichen|         2|        Search|      Paid Search|pay-per-click, is...|2019-01-01 07:16:37|\n",
      "|          9|    Sanjaya Putra|     M|Sanjaya.Putra@mai...| +628123456789|    ID |2020-01-04 18:04:12|                     1|   Sanjaya|    Putra|         1|        Search|   Organic Search|Organic search is...|2019-01-01 07:16:37|\n",
      "|          1|         John Doe|     M|   John.Doe@mail.com|  +11239879877|    US |2020-01-01 07:16:37|                    11|      John|      Doe|        11|Traditional Ad|            Radio|                NULL|2019-01-01 07:16:37|\n",
      "|          3|        Elon Musk|     M|  Elon.Musk@mail.com|  +11239879872|    US |2020-01-01 09:46:43|                    10|      Elon|     Musk|        10|Traditional Ad|               TV|                NULL|2019-01-01 07:16:37|\n",
      "|          5|    Eleanor Rigby|     M|Eleanor.Rigby@mai...| +441234567891|    GB |2020-01-01 18:34:50|                     5|   Eleanor|    Rigby|         5|     Massaging|            Email|Email marketing, ...|2019-01-01 07:16:37|\n",
      "|          7|     Eiichiro Oda|     M|Eiichiro.Oda@mail...|  +81123456789|    JP |2020-01-01 23:04:31|                     4|  Eiichiro|      Oda|         4|  Social Media|Paid Social Media|For example, spon...|2019-01-01 07:16:37|\n",
      "|          2|         Jane Doe|     F|   Jane.Doe@mail.com|  +11239879871|    US |2020-01-02 00:21:00|                     7|      Jane|      Doe|         7|      Customer|        Refferals|Referral marketin...|2019-01-01 07:16:37|\n",
      "|          4|       Bill Gates|     M| Bill.Gates@mail.com|  +11239879873|    US |2020-01-02 16:26:29|                     1|      Bill|    Gates|         1|        Search|   Organic Search|Organic search is...|2019-01-01 07:16:37|\n",
      "|         10|      Daran Tasha|     F|Daran.Tasha@mail.com|+7112323456789|    RU |2020-01-05 02:23:48|                    11|     Daran|    Tasha|        11|Traditional Ad|            Radio|                NULL|2019-01-01 07:16:37|\n",
      "+-----------+-----------------+------+--------------------+--------------+-------+-------------------+----------------------+----------+---------+----------+--------------+-----------------+--------------------+-------------------+\n",
      "\n"
     ]
    }
   ],
   "source": [
    "query = '''select * from dev_curated_ecommerce.customers c\n",
    "left join dev_raw_ecommerce.customer_acquisition_channels ac\n",
    "    on c.acquisition_channel_id = ac.channel_id'''\n",
    "df = spark.sql(query)\n",
    "df.show()"
   ]
  },
  {
   "cell_type": "code",
   "execution_count": 12,
   "id": "e75e8878-b42b-44f3-9504-aff1fec4b8fd",
   "metadata": {},
   "outputs": [
    {
     "name": "stdout",
     "output_type": "stream",
     "text": [
      "+-------------------+\n",
      "|                max|\n",
      "+-------------------+\n",
      "|2020-01-05 02:23:48|\n",
      "+-------------------+\n",
      "\n"
     ]
    }
   ],
   "source": [
    "query = f'''select max(registration_date) from customers where registration_date < '{last_date}' '''\n",
    "df = spark.read.format('jdbc') \\\n",
    "        .option(\"url\", \"jdbc:postgresql://postgres/ecommerce\") \\\n",
    "        .option(\"query\",query) \\\n",
    "        .option(\"user\",\"postgres\") \\\n",
    "        .option(\"password\",\"postgres\") \\\n",
    "        .option(\"driver\",\"org.postgresql.Driver\") \\\n",
    "        .load()\n",
    "df.show()"
   ]
  },
  {
   "cell_type": "code",
   "execution_count": 9,
   "id": "9e3d8482-2317-4d2e-a1f5-8bf313fc06c8",
   "metadata": {},
   "outputs": [],
   "source": [
    "# %pip list"
   ]
  },
  {
   "cell_type": "code",
   "execution_count": 6,
   "id": "dbb3492a-ed5e-4fb6-9dd8-6d44df9205fb",
   "metadata": {},
   "outputs": [
    {
     "data": {
      "text/html": [
       "<table>\n",
       "    <thead>\n",
       "        <tr>\n",
       "        </tr>\n",
       "    </thead>\n",
       "    <tbody>\n",
       "    </tbody>\n",
       "</table>"
      ],
      "text/plain": [
       "++\n",
       "||\n",
       "++\n",
       "++"
      ]
     },
     "execution_count": 6,
     "metadata": {},
     "output_type": "execute_result"
    }
   ],
   "source": [
    "%%sql\n",
    "-- CREATE DATABASE IF NOT EXISTS test_raw_ecommerce;\n",
    "-- CREATE TABLE IF NOT EXISTS test_raw_ecommerce.customers (\n",
    "--     customer_id                 bigint NOT NULL COMMENT 'unique id',\n",
    "--     name                        string,\n",
    "--     first_name                  string,\n",
    "--     last_name                   string,\n",
    "--     gender                      string,\n",
    "--     email                       string,\n",
    "--     phone                       string,\n",
    "--     country                     string,\n",
    "--     registration_date           timestamp NOT NULL,\n",
    "--     acquisition_channel_id      int\n",
    "-- )\n",
    "-- USING iceberg\n",
    "-- PARTITIONED BY (days(registration_date));\n",
    "\n",
    "-- CREATE DATABASE IF NOT EXISTS test_curated_ecommerce;\n",
    "-- CREATE TABLE IF NOT EXISTS test_curated_ecommerce.customers (\n",
    "--     customer_id                 bigint NOT NULL COMMENT 'unique id',\n",
    "--     name                        string,\n",
    "--     first_name                  string,\n",
    "--     last_name                   string,\n",
    "--     gender                      string,\n",
    "--     email                       string,\n",
    "--     phone                       string,\n",
    "--     country                     string,\n",
    "--     registration_date           timestamp NOT NULL,\n",
    "--     acquisition_channel_id      int\n",
    "-- )\n",
    "-- USING iceberg\n",
    "-- PARTITIONED BY (days(registration_date));"
   ]
  }
 ],
 "metadata": {
  "kernelspec": {
   "display_name": "Python 3 (ipykernel)",
   "language": "python",
   "name": "python3"
  },
  "language_info": {
   "codemirror_mode": {
    "name": "ipython",
    "version": 3
   },
   "file_extension": ".py",
   "mimetype": "text/x-python",
   "name": "python",
   "nbconvert_exporter": "python",
   "pygments_lexer": "ipython3",
   "version": "3.10.16"
  }
 },
 "nbformat": 4,
 "nbformat_minor": 5
}
